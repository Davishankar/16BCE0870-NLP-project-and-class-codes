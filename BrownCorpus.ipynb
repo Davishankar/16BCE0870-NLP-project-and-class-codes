{
 "cells": [
  {
   "cell_type": "code",
   "execution_count": 4,
   "metadata": {},
   "outputs": [
    {
     "ename": "AttributeError",
     "evalue": "'CategorizedTaggedCorpusReader' object has no attribute 'catergories'",
     "output_type": "error",
     "traceback": [
      "\u001b[1;31m---------------------------------------------------------------------------\u001b[0m",
      "\u001b[1;31mAttributeError\u001b[0m                            Traceback (most recent call last)",
      "\u001b[1;32m<ipython-input-4-7cdd6ef99219>\u001b[0m in \u001b[0;36m<module>\u001b[1;34m()\u001b[0m\n\u001b[0;32m      1\u001b[0m \u001b[1;32mimport\u001b[0m \u001b[0mnltk\u001b[0m\u001b[1;33m;\u001b[0m\u001b[1;33m\u001b[0m\u001b[0m\n\u001b[0;32m      2\u001b[0m \u001b[1;32mfrom\u001b[0m \u001b[0mnltk\u001b[0m\u001b[1;33m.\u001b[0m\u001b[0mcorpus\u001b[0m \u001b[1;32mimport\u001b[0m \u001b[0mbrown\u001b[0m\u001b[1;33m;\u001b[0m\u001b[1;33m\u001b[0m\u001b[0m\n\u001b[1;32m----> 3\u001b[1;33m \u001b[0mbrown\u001b[0m\u001b[1;33m.\u001b[0m\u001b[0mcatergories\u001b[0m\u001b[1;33m(\u001b[0m\u001b[1;33m)\u001b[0m\u001b[1;33m\u001b[0m\u001b[0m\n\u001b[0m",
      "\u001b[1;31mAttributeError\u001b[0m: 'CategorizedTaggedCorpusReader' object has no attribute 'catergories'"
     ]
    }
   ],
   "source": [
    "import nltk;\n",
    "from nltk.corpus import brown;\n",
    "brown.catergories()"
   ]
  },
  {
   "cell_type": "code",
   "execution_count": 5,
   "metadata": {},
   "outputs": [
    {
     "data": {
      "text/plain": [
       "['adventure',\n",
       " 'belles_lettres',\n",
       " 'editorial',\n",
       " 'fiction',\n",
       " 'government',\n",
       " 'hobbies',\n",
       " 'humor',\n",
       " 'learned',\n",
       " 'lore',\n",
       " 'mystery',\n",
       " 'news',\n",
       " 'religion',\n",
       " 'reviews',\n",
       " 'romance',\n",
       " 'science_fiction']"
      ]
     },
     "execution_count": 5,
     "metadata": {},
     "output_type": "execute_result"
    }
   ],
   "source": [
    "import nltk\n",
    "from nltk.corpus import brown\n",
    "brown.categories()"
   ]
  },
  {
   "cell_type": "code",
   "execution_count": null,
   "metadata": {},
   "outputs": [],
   "source": [
    "import nltk\n",
    "nltk.download()"
   ]
  },
  {
   "cell_type": "code",
   "execution_count": 3,
   "metadata": {},
   "outputs": [
    {
     "data": {
      "text/plain": [
       "8"
      ]
     },
     "execution_count": 3,
     "metadata": {},
     "output_type": "execute_result"
    }
   ],
   "source": [
    "3+5"
   ]
  },
  {
   "cell_type": "code",
   "execution_count": 6,
   "metadata": {},
   "outputs": [
    {
     "data": {
      "text/plain": [
       "['Dan', 'Morgan', 'told', 'himself', 'he', 'would', ...]"
      ]
     },
     "execution_count": 6,
     "metadata": {},
     "output_type": "execute_result"
    }
   ],
   "source": [
    "brown.words(categories='adventure')"
   ]
  },
  {
   "cell_type": "code",
   "execution_count": 8,
   "metadata": {},
   "outputs": [
    {
     "data": {
      "text/plain": [
       "'corpora'"
      ]
     },
     "execution_count": 8,
     "metadata": {},
     "output_type": "execute_result"
    }
   ],
   "source": [
    "from nltk.corpus import inaugural\n",
    "inaugural.subdir"
   ]
  },
  {
   "cell_type": "code",
   "execution_count": 9,
   "metadata": {},
   "outputs": [
    {
     "data": {
      "text/plain": [
       "['1789-Washington.txt',\n",
       " '1793-Washington.txt',\n",
       " '1797-Adams.txt',\n",
       " '1801-Jefferson.txt',\n",
       " '1805-Jefferson.txt',\n",
       " '1809-Madison.txt',\n",
       " '1813-Madison.txt',\n",
       " '1817-Monroe.txt',\n",
       " '1821-Monroe.txt',\n",
       " '1825-Adams.txt',\n",
       " '1829-Jackson.txt',\n",
       " '1833-Jackson.txt',\n",
       " '1837-VanBuren.txt',\n",
       " '1841-Harrison.txt',\n",
       " '1845-Polk.txt',\n",
       " '1849-Taylor.txt',\n",
       " '1853-Pierce.txt',\n",
       " '1857-Buchanan.txt',\n",
       " '1861-Lincoln.txt',\n",
       " '1865-Lincoln.txt',\n",
       " '1869-Grant.txt',\n",
       " '1873-Grant.txt',\n",
       " '1877-Hayes.txt',\n",
       " '1881-Garfield.txt',\n",
       " '1885-Cleveland.txt',\n",
       " '1889-Harrison.txt',\n",
       " '1893-Cleveland.txt',\n",
       " '1897-McKinley.txt',\n",
       " '1901-McKinley.txt',\n",
       " '1905-Roosevelt.txt',\n",
       " '1909-Taft.txt',\n",
       " '1913-Wilson.txt',\n",
       " '1917-Wilson.txt',\n",
       " '1921-Harding.txt',\n",
       " '1925-Coolidge.txt',\n",
       " '1929-Hoover.txt',\n",
       " '1933-Roosevelt.txt',\n",
       " '1937-Roosevelt.txt',\n",
       " '1941-Roosevelt.txt',\n",
       " '1945-Roosevelt.txt',\n",
       " '1949-Truman.txt',\n",
       " '1953-Eisenhower.txt',\n",
       " '1957-Eisenhower.txt',\n",
       " '1961-Kennedy.txt',\n",
       " '1965-Johnson.txt',\n",
       " '1969-Nixon.txt',\n",
       " '1973-Nixon.txt',\n",
       " '1977-Carter.txt',\n",
       " '1981-Reagan.txt',\n",
       " '1985-Reagan.txt',\n",
       " '1989-Bush.txt',\n",
       " '1993-Clinton.txt',\n",
       " '1997-Clinton.txt',\n",
       " '2001-Bush.txt',\n",
       " '2005-Bush.txt',\n",
       " '2009-Obama.txt']"
      ]
     },
     "execution_count": 9,
     "metadata": {},
     "output_type": "execute_result"
    }
   ],
   "source": [
    "inaugural.fileids()"
   ]
  },
  {
   "cell_type": "code",
   "execution_count": 10,
   "metadata": {},
   "outputs": [
    {
     "data": {
      "text/plain": [
       "['My',\n",
       " 'fellow',\n",
       " 'citizens',\n",
       " ':',\n",
       " 'I',\n",
       " 'stand',\n",
       " 'here',\n",
       " 'today',\n",
       " 'humbled',\n",
       " 'by',\n",
       " 'the',\n",
       " 'task',\n",
       " 'before',\n",
       " 'us',\n",
       " ',',\n",
       " 'grateful',\n",
       " 'for',\n",
       " 'the',\n",
       " 'trust',\n",
       " 'you',\n",
       " 'have',\n",
       " 'bestowed',\n",
       " ',',\n",
       " 'mindful',\n",
       " 'of',\n",
       " 'the',\n",
       " 'sacrifices',\n",
       " 'borne',\n",
       " 'by',\n",
       " 'our',\n",
       " 'ancestors',\n",
       " '.',\n",
       " 'I',\n",
       " 'thank',\n",
       " 'President',\n",
       " 'Bush',\n",
       " 'for',\n",
       " 'his',\n",
       " 'service',\n",
       " 'to',\n",
       " 'our',\n",
       " 'nation',\n",
       " ',',\n",
       " 'as',\n",
       " 'well',\n",
       " 'as',\n",
       " 'the',\n",
       " 'generosity',\n",
       " 'and',\n",
       " 'cooperation',\n",
       " 'he',\n",
       " 'has',\n",
       " 'shown',\n",
       " 'throughout',\n",
       " 'this',\n",
       " 'transition',\n",
       " '.',\n",
       " 'Forty',\n",
       " '-',\n",
       " 'four',\n",
       " 'Americans',\n",
       " 'have',\n",
       " 'now',\n",
       " 'taken',\n",
       " 'the',\n",
       " 'presidential',\n",
       " 'oath',\n",
       " '.',\n",
       " 'The',\n",
       " 'words',\n",
       " 'have',\n",
       " 'been',\n",
       " 'spoken',\n",
       " 'during',\n",
       " 'rising',\n",
       " 'tides',\n",
       " 'of',\n",
       " 'prosperity',\n",
       " 'and',\n",
       " 'the',\n",
       " 'still',\n",
       " 'waters',\n",
       " 'of',\n",
       " 'peace',\n",
       " '.',\n",
       " 'Yet',\n",
       " ',',\n",
       " 'every',\n",
       " 'so',\n",
       " 'often',\n",
       " 'the',\n",
       " 'oath',\n",
       " 'is',\n",
       " 'taken',\n",
       " 'amidst',\n",
       " 'gathering',\n",
       " 'clouds',\n",
       " 'and',\n",
       " 'raging',\n",
       " 'storms',\n",
       " '.',\n",
       " 'At',\n",
       " 'these',\n",
       " 'moments',\n",
       " ',',\n",
       " 'America',\n",
       " 'has',\n",
       " 'carried',\n",
       " 'on',\n",
       " 'not',\n",
       " 'simply',\n",
       " 'because',\n",
       " 'of',\n",
       " 'the',\n",
       " 'skill',\n",
       " 'or',\n",
       " 'vision',\n",
       " 'of',\n",
       " 'those',\n",
       " 'in',\n",
       " 'high',\n",
       " 'office',\n",
       " ',',\n",
       " 'but',\n",
       " 'because',\n",
       " 'We',\n",
       " 'the',\n",
       " 'People',\n",
       " 'have',\n",
       " 'remained',\n",
       " 'faithful',\n",
       " 'to',\n",
       " 'the',\n",
       " 'ideals',\n",
       " 'of',\n",
       " 'our',\n",
       " 'forbearers',\n",
       " ',',\n",
       " 'and',\n",
       " 'true',\n",
       " 'to',\n",
       " 'our',\n",
       " 'founding',\n",
       " 'documents',\n",
       " '.',\n",
       " 'So',\n",
       " 'it',\n",
       " 'has',\n",
       " 'been',\n",
       " '.',\n",
       " 'So',\n",
       " 'it',\n",
       " 'must',\n",
       " 'be',\n",
       " 'with',\n",
       " 'this',\n",
       " 'generation',\n",
       " 'of',\n",
       " 'Americans',\n",
       " '.',\n",
       " 'That',\n",
       " 'we',\n",
       " 'are',\n",
       " 'in',\n",
       " 'the',\n",
       " 'midst',\n",
       " 'of',\n",
       " 'crisis',\n",
       " 'is',\n",
       " 'now',\n",
       " 'well',\n",
       " 'understood',\n",
       " '.',\n",
       " 'Our',\n",
       " 'nation',\n",
       " 'is',\n",
       " 'at',\n",
       " 'war',\n",
       " ',',\n",
       " 'against',\n",
       " 'a',\n",
       " 'far',\n",
       " '-',\n",
       " 'reaching',\n",
       " 'network',\n",
       " 'of',\n",
       " 'violence',\n",
       " 'and',\n",
       " 'hatred',\n",
       " '.',\n",
       " 'Our',\n",
       " 'economy',\n",
       " 'is',\n",
       " 'badly',\n",
       " 'weakened',\n",
       " ',',\n",
       " 'a',\n",
       " 'consequence',\n",
       " 'of',\n",
       " 'greed']"
      ]
     },
     "execution_count": 10,
     "metadata": {},
     "output_type": "execute_result"
    }
   ],
   "source": [
    "inaugural.words(fileids = '2009-Obama.txt') [:200]"
   ]
  },
  {
   "cell_type": "code",
   "execution_count": 12,
   "metadata": {},
   "outputs": [
    {
     "data": {
      "text/plain": [
       "['The', 'part', 'was', 'soooo', 'fun', ':D', '#superfun']"
      ]
     },
     "execution_count": 12,
     "metadata": {},
     "output_type": "execute_result"
    }
   ],
   "source": [
    "from nltk.tokenize import TweetTokenizer\n",
    "text=\"The part was soooo fun :D #superfun\"\n",
    "twtkn = TweetTokenizer()\n",
    "twtkn.tokenize(text)"
   ]
  },
  {
   "cell_type": "code",
   "execution_count": null,
   "metadata": {},
   "outputs": [],
   "source": []
  }
 ],
 "metadata": {
  "kernelspec": {
   "display_name": "Python 3",
   "language": "python",
   "name": "python3"
  },
  "language_info": {
   "codemirror_mode": {
    "name": "ipython",
    "version": 3
   },
   "file_extension": ".py",
   "mimetype": "text/x-python",
   "name": "python",
   "nbconvert_exporter": "python",
   "pygments_lexer": "ipython3",
   "version": "3.6.1"
  }
 },
 "nbformat": 4,
 "nbformat_minor": 2
}
