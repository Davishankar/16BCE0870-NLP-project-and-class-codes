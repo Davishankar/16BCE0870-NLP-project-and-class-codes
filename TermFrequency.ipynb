{
 "cells": [
  {
   "cell_type": "code",
   "execution_count": 2,
   "metadata": {},
   "outputs": [
    {
     "name": "stdout",
     "output_type": "stream",
     "text": [
      "{'last_letter': 'r'}\n"
     ]
    }
   ],
   "source": [
    "import nltk\n",
    "def gender_features(word):\n",
    "    return {'last_letter':word[-1]}\n",
    "name=\"Davishankar\"\n",
    "print(gender_features(name))"
   ]
  },
  {
   "cell_type": "code",
   "execution_count": 5,
   "metadata": {},
   "outputs": [
    {
     "name": "stdout",
     "output_type": "stream",
     "text": [
      "Probability of the person whose name is Davishankar being a male is: 0.73\n"
     ]
    }
   ],
   "source": [
    "from nltk.corpus import names\n",
    "labeled_names=([(name,'male') for name in names.words('male.txt')] + [(name,'female') for name in names.words('female.txt')])\n",
    "import random\n",
    "random.shuffle(labeled_names)\n",
    "featuresets = [(gender_features(n),gender) for (n,gender) in labeled_names]\n",
    "train_set, test_set = featuresets[500:],featuresets[:500]\n",
    "import nltk\n",
    "classifier = nltk.NaiveBayesClassifier.train(train_set)\n",
    "myname=\"Davishankar\"\n",
    "classifier.classify(gender_features(myname))\n",
    "print(\"Probability of the person whose name is\",myname, \"being a male is:\",nltk.classify.accuracy(classifier,test_set))\n"
   ]
  },
  {
   "cell_type": "code",
   "execution_count": null,
   "metadata": {},
   "outputs": [],
   "source": []
  }
 ],
 "metadata": {
  "kernelspec": {
   "display_name": "Python 3",
   "language": "python",
   "name": "python3"
  },
  "language_info": {
   "codemirror_mode": {
    "name": "ipython",
    "version": 3
   },
   "file_extension": ".py",
   "mimetype": "text/x-python",
   "name": "python",
   "nbconvert_exporter": "python",
   "pygments_lexer": "ipython3",
   "version": "3.6.1"
  }
 },
 "nbformat": 4,
 "nbformat_minor": 2
}
