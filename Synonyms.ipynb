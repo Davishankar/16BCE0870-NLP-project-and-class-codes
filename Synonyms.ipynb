{
 "cells": [
  {
   "cell_type": "code",
   "execution_count": 17,
   "metadata": {},
   "outputs": [
    {
     "name": "stdout",
     "output_type": "stream",
     "text": [
      "Enter the word to find the synonym of: try\n",
      "Synset('attempt.n.01')\n",
      "attempt.n.01\n"
     ]
    }
   ],
   "source": [
    "from nltk.corpus import wordnet as wn\n",
    "name=input(\"Enter the word to find the synonym of: \")\n",
    "sets=wn.synsets(name)\n",
    "first=sets[0]\n",
    "first=str(first)\n",
    "print(first)\n",
    "wn.synset('talk.v.02').lemma_names()\n",
    "\n",
    "try:\n",
    "    entry=first[8:-2]\n",
    "    print(entry)\n",
    "    wn.synset('talk.v.02').lemma_names()\n",
    "    wn.synset(entry).lemma_names()\n",
    "except:\n",
    "    print(\"some error\")"
   ]
  },
  {
   "cell_type": "code",
   "execution_count": 1,
   "metadata": {},
   "outputs": [
    {
     "name": "stdout",
     "output_type": "stream",
     "text": [
      "Input the word:win\n",
      "Synset('win.n.01')\n",
      "Synset('winnings.n.01')\n",
      "Synset('win.v.01')\n",
      "Synset('acquire.v.05')\n",
      "Synset('gain.v.05')\n",
      "Synset('succeed.v.01')\n",
      "{'bring_home_the_bacon', 'advance', 'acquire', 'come_through', 'gain_ground', 'gain', 'make_headway', 'profits', 'pull_ahead', 'winnings', 'deliver_the_goods', 'succeed', 'win', 'get_ahead'}\n"
     ]
    }
   ],
   "source": [
    "from nltk.corpus import wordnet \n",
    "word=input(\"Input the word:\")\n",
    "synonyms=[]\n",
    "for syn in wordnet.synsets(word): \n",
    "    print(syn)\n",
    "    for l in syn.lemmas(): \n",
    "        synonyms.append(l.name()) \n",
    "        #if l.antonyms(): \n",
    "            #antonyms.append(l.antonyms()[0].name())\n",
    "print(set(synonyms))"
   ]
  }
 ],
 "metadata": {
  "kernelspec": {
   "display_name": "Python 3",
   "language": "python",
   "name": "python3"
  },
  "language_info": {
   "codemirror_mode": {
    "name": "ipython",
    "version": 3
   },
   "file_extension": ".py",
   "mimetype": "text/x-python",
   "name": "python",
   "nbconvert_exporter": "python",
   "pygments_lexer": "ipython3",
   "version": "3.6.1"
  }
 },
 "nbformat": 4,
 "nbformat_minor": 2
}
